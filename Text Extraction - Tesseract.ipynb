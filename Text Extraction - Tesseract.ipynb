{
 "cells": [
  {
   "cell_type": "markdown",
   "metadata": {},
   "source": [
    "# Tesseract"
   ]
  },
  {
   "cell_type": "code",
   "execution_count": 1,
   "metadata": {},
   "outputs": [],
   "source": [
    "import re\n",
    "import cv2\n",
    "import glob\n",
    "import pytesseract\n",
    "import numpy as np\n",
    "import pandas as pd\n",
    "\n",
    "pytesseract.pytesseract.tesseract_cmd=r\"<local_path>/Tesseract-OCR/tesseract.exe\"\n",
    "\n",
    "imagelink = \"<local_path>/Google-Tesseract/Images/\""
   ]
  },
  {
   "cell_type": "markdown",
   "metadata": {},
   "source": [
    "## OPERATIONS ON IMAGES"
   ]
  },
  {
   "cell_type": "code",
   "execution_count": 2,
   "metadata": {},
   "outputs": [
    {
     "data": {
      "text/plain": [
       "-1"
      ]
     },
     "execution_count": 2,
     "metadata": {},
     "output_type": "execute_result"
    }
   ],
   "source": [
    "# DISPLAY IMAGE\n",
    "\n",
    "link = imagelink + \"example_1.jpg\"\n",
    "\n",
    "image = cv2.imread(link, 0)\n",
    "\n",
    "cv2.imshow(\"Image Displayed\", image)\n",
    "cv2.waitKey(0)"
   ]
  },
  {
   "cell_type": "code",
   "execution_count": 3,
   "metadata": {},
   "outputs": [
    {
     "data": {
      "text/plain": [
       "-1"
      ]
     },
     "execution_count": 3,
     "metadata": {},
     "output_type": "execute_result"
    }
   ],
   "source": [
    "# RESIZE IMAGE\n",
    "\n",
    "link = imagelink + \"example_1.jpg\"\n",
    "\n",
    "image = cv2.imread(link, 0)\n",
    "image = cv2.resize(image, (500, 700))\n",
    "\n",
    "cv2.imshow(\"Image Resized\", image)\n",
    "cv2.waitKey(0)"
   ]
  },
  {
   "cell_type": "code",
   "execution_count": 4,
   "metadata": {},
   "outputs": [
    {
     "data": {
      "text/plain": [
       "-1"
      ]
     },
     "execution_count": 4,
     "metadata": {},
     "output_type": "execute_result"
    }
   ],
   "source": [
    "# CROPPED IMAGE\n",
    "\n",
    "link = imagelink + \"example_1.jpg\"\n",
    "\n",
    "image = cv2.imread(link, 0)\n",
    "image = image[50:, :200]\n",
    "\n",
    "cv2.imshow(\"Image Cropped\", image)\n",
    "cv2.waitKey(0)"
   ]
  },
  {
   "cell_type": "code",
   "execution_count": 5,
   "metadata": {},
   "outputs": [
    {
     "data": {
      "text/plain": [
       "-1"
      ]
     },
     "execution_count": 5,
     "metadata": {},
     "output_type": "execute_result"
    }
   ],
   "source": [
    "# ROTATE IMAGE\n",
    "\n",
    "link = imagelink + \"example_1.jpg\"\n",
    "\n",
    "image = cv2.imread(link, 0)\n",
    "image = cv2.rotate(image, cv2.cv2.ROTATE_90_CLOCKWISE)\n",
    "\n",
    "cv2.imshow(\"Image Rotated\", image)\n",
    "cv2.waitKey(0)"
   ]
  },
  {
   "cell_type": "code",
   "execution_count": 6,
   "metadata": {},
   "outputs": [
    {
     "data": {
      "text/plain": [
       "-1"
      ]
     },
     "execution_count": 6,
     "metadata": {},
     "output_type": "execute_result"
    }
   ],
   "source": [
    "# TRANSLATED IMAGE\n",
    "\n",
    "link = imagelink + \"example_1.jpg\"\n",
    "\n",
    "image = cv2.imread(link, 0)\n",
    "\n",
    "height, width = image.shape[:2]\n",
    "\n",
    "tx, ty = width / 4, height / 4\n",
    "\n",
    "translation_matrix = np.array([[1, 0, tx],[0, 1, ty]], dtype=np.float32)\n",
    "\n",
    "image = cv2.warpAffine(src=image, M=translation_matrix, dsize=(width, height))\n",
    "\n",
    "cv2.imshow(\"Image Translated\", image)\n",
    "cv2.waitKey(0)"
   ]
  },
  {
   "cell_type": "markdown",
   "metadata": {},
   "source": [
    "## TEXT EXTRACTION"
   ]
  },
  {
   "cell_type": "markdown",
   "metadata": {},
   "source": [
    "## - Simple Extraction"
   ]
  },
  {
   "cell_type": "code",
   "execution_count": 7,
   "metadata": {},
   "outputs": [
    {
     "name": "stdout",
     "output_type": "stream",
     "text": [
      "A simple image with text to demonstrate\n",
      "extraction of text using python and tesseract\n",
      "\n",
      "“Two things are infinite: the universe and human stupidity; and I'm not sure\n",
      "about the universe.” - Albert Einstein\n",
      "\f",
      "\n"
     ]
    }
   ],
   "source": [
    "link = imagelink + \"example_1.jpg\"\n",
    "\n",
    "image = cv2.imread(link, 0)\n",
    "\n",
    "data = pytesseract.image_to_string(image)\n",
    "\n",
    "print(data)"
   ]
  },
  {
   "cell_type": "code",
   "execution_count": 8,
   "metadata": {},
   "outputs": [
    {
     "name": "stdout",
     "output_type": "stream",
     "text": [
      "“You've gotta dance like there's nobody watching,\n",
      "Love like you'll never be hurt,\n",
      "Sing like there's nobody listening,\n",
      "And live like it’s heaven on earth.”\n",
      "— William w. Pu rkey\n",
      "\f",
      "\n"
     ]
    }
   ],
   "source": [
    "link = imagelink + \"example_2.jpg\"\n",
    "\n",
    "image = cv2.imread(link, 0)\n",
    "\n",
    "data = pytesseract.image_to_string(image)\n",
    "\n",
    "print(data)"
   ]
  },
  {
   "cell_type": "markdown",
   "metadata": {},
   "source": [
    "## - Text Extraction With Manipulations"
   ]
  },
  {
   "cell_type": "code",
   "execution_count": 9,
   "metadata": {},
   "outputs": [
    {
     "name": "stdout",
     "output_type": "stream",
     "text": [
      "\n",
      "it © 13 ~*~ wu\n",
      "C) Kimmy Long\n",
      "C) Le Fevre Taylor\n",
      "\f",
      ".\n",
      "--------------------\n",
      "\n",
      "We notice that views on the screenshot are visible after a special character '©'.\n",
      "Therefore we use regex to extract the number of views.\n",
      "--------------------\n",
      "\n",
      "Example 3 has 13 views.\n"
     ]
    }
   ],
   "source": [
    "link = imagelink + \"example_3.jpg\"\n",
    "\n",
    "image = cv2.imread(link,0)\n",
    "image = cv2.resize(image, (500, 700))\n",
    "image = image[25:300, :]\n",
    "\n",
    "thresh = cv2.threshold(image, 0, 255, cv2.THRESH_BINARY_INV + cv2.THRESH_OTSU)[1]\n",
    "\n",
    "Data = pytesseract.image_to_string(thresh, lang='eng',config='--psm 6')\n",
    "\n",
    "print(\"\\n{}.\".format(Data))\n",
    "print(\"-\"*20)\n",
    "print(\"\\nWe notice that views on the screenshot are visible after a special character '©'.\\nTherefore we use regex to extract the number of views.\")\n",
    "\n",
    "Views = re.findall(r'© .*',Data)[0]\n",
    "Views = [int(i) for i in Views.split() if i.isdigit()][0]\n",
    "\n",
    "print(\"-\"*20)\n",
    "print(\"\\nExample 3 has {} views.\".format(Views))"
   ]
  }
 ],
 "metadata": {
  "kernelspec": {
   "display_name": "Python 3",
   "language": "python",
   "name": "python3"
  },
  "language_info": {
   "codemirror_mode": {
    "name": "ipython",
    "version": 3
   },
   "file_extension": ".py",
   "mimetype": "text/x-python",
   "name": "python",
   "nbconvert_exporter": "python",
   "pygments_lexer": "ipython3",
   "version": "3.8.5"
  }
 },
 "nbformat": 4,
 "nbformat_minor": 4
}
