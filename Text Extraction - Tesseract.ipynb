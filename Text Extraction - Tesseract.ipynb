{
 "cells": [
  {
   "cell_type": "code",
   "execution_count": null,
   "metadata": {},
   "outputs": [],
   "source": [
    "import re\n",
    "import cv2\n",
    "import glob\n",
    "import pytesseract\n",
    "import pandas as pd\n",
    "from time import sleep\n",
    "from selenium import webdriver\n",
    "\n",
    "PATH = \"C:/Program Files (x86)/chromedriver.exe\"\n",
    "pytesseract.pytesseract.tesseract_cmd = <local_tesseract_file_path>\n",
    "\n",
    "imagelink = <image_file_path>"
   ]
  },
  {
   "cell_type": "code",
   "execution_count": null,
   "metadata": {},
   "outputs": [],
   "source": [
    "link = imagelink + \"example_1.jpg\"\n",
    "\n",
    "image = cv2.imread(link, 0)\n",
    "\n",
    "data = pytesseract.image_to_string(image, lang='eng',config='--psm 6')\n",
    "\n",
    "print(data)"
   ]
  },
  {
   "cell_type": "code",
   "execution_count": null,
   "metadata": {},
   "outputs": [],
   "source": [
    "link = imagelink + \"example_2.jpg\"\n",
    "\n",
    "image = cv2.imread(link, 0)\n",
    "\n",
    "data = pytesseract.image_to_string(image, lang='eng',config='--psm 6')\n",
    "\n",
    "print(data)"
   ]
  }
 ],
 "metadata": {
  "kernelspec": {
   "display_name": "Python 3",
   "language": "python",
   "name": "python3"
  },
  "language_info": {
   "codemirror_mode": {
    "name": "ipython",
    "version": 3
   },
   "file_extension": ".py",
   "mimetype": "text/x-python",
   "name": "python",
   "nbconvert_exporter": "python",
   "pygments_lexer": "ipython3",
   "version": "3.8.5"
  }
 },
 "nbformat": 4,
 "nbformat_minor": 4
}
