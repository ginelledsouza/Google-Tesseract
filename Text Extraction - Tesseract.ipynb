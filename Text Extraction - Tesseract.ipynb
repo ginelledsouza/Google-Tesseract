{
 "cells": [
  {
   "cell_type": "markdown",
   "metadata": {},
   "source": [
    "# Tesseract"
   ]
  },
  {
   "cell_type": "markdown",
   "metadata": {},
   "source": [
    "Tesseract is an optical character recognition engine for various operating systems. It is free software, released under the Apache License. It is open source. In 2006, Tesseract was considered one of the most accurate open-source OCR engines available."
   ]
  },
  {
   "cell_type": "code",
   "execution_count": 1,
   "metadata": {},
   "outputs": [],
   "source": [
    "import os\n",
    "import re\n",
    "import cv2\n",
    "import glob\n",
    "import pytesseract\n",
    "import numpy as np\n",
    "import pandas as pd\n",
    "from datetime import date\n",
    "from pytesseract import Output\n",
    "from difflib import get_close_matches\n",
    "\n",
    "pytesseract.pytesseract.tesseract_cmd=r\"<local_path>/Tesseract-OCR/tesseract.exe\"\n",
    "\n",
    "imagelink = \"<local_path>/Google-Tesseract/Images/\""
   ]
  },
  {
   "cell_type": "markdown",
   "metadata": {},
   "source": [
    "Before we jump into Tesseract, let us view some common image manipulation that can be handy while extracting text from any image. "
   ]
  },
  {
   "cell_type": "markdown",
   "metadata": {},
   "source": [
    "## OPERATIONS ON IMAGES"
   ]
  },
  {
   "cell_type": "code",
   "execution_count": 2,
   "metadata": {},
   "outputs": [
    {
     "data": {
      "text/plain": [
       "-1"
      ]
     },
     "execution_count": 2,
     "metadata": {},
     "output_type": "execute_result"
    }
   ],
   "source": [
    "# DISPLAY IMAGE\n",
    "\n",
    "link = imagelink + \"example_1.jpg\"\n",
    "\n",
    "image = cv2.imread(link, 0)\n",
    "\n",
    "cv2.imshow(\"Image Displayed\", image)\n",
    "cv2.waitKey(0)"
   ]
  },
  {
   "cell_type": "code",
   "execution_count": 3,
   "metadata": {},
   "outputs": [
    {
     "data": {
      "text/plain": [
       "-1"
      ]
     },
     "execution_count": 3,
     "metadata": {},
     "output_type": "execute_result"
    }
   ],
   "source": [
    "# RESIZE IMAGE\n",
    "\n",
    "link = imagelink + \"example_1.jpg\"\n",
    "\n",
    "image = cv2.imread(link, 0)\n",
    "image = cv2.resize(image, (500, 700))\n",
    "\n",
    "cv2.imshow(\"Image Resized\", image)\n",
    "cv2.waitKey(0)"
   ]
  },
  {
   "cell_type": "code",
   "execution_count": 4,
   "metadata": {},
   "outputs": [
    {
     "data": {
      "text/plain": [
       "-1"
      ]
     },
     "execution_count": 4,
     "metadata": {},
     "output_type": "execute_result"
    }
   ],
   "source": [
    "# CROPPED IMAGE\n",
    "\n",
    "link = imagelink + \"example_1.jpg\"\n",
    "\n",
    "image = cv2.imread(link, 0)\n",
    "image = image[50:, :200]\n",
    "\n",
    "cv2.imshow(\"Image Cropped\", image)\n",
    "cv2.waitKey(0)"
   ]
  },
  {
   "cell_type": "code",
   "execution_count": 5,
   "metadata": {},
   "outputs": [
    {
     "data": {
      "text/plain": [
       "-1"
      ]
     },
     "execution_count": 5,
     "metadata": {},
     "output_type": "execute_result"
    }
   ],
   "source": [
    "# ROTATE IMAGE\n",
    "\n",
    "link = imagelink + \"example_1.jpg\"\n",
    "\n",
    "image = cv2.imread(link, 0)\n",
    "image = cv2.rotate(image, cv2.cv2.ROTATE_90_CLOCKWISE)\n",
    "\n",
    "cv2.imshow(\"Image Rotated\", image)\n",
    "cv2.waitKey(0)"
   ]
  },
  {
   "cell_type": "code",
   "execution_count": 6,
   "metadata": {},
   "outputs": [
    {
     "data": {
      "text/plain": [
       "-1"
      ]
     },
     "execution_count": 6,
     "metadata": {},
     "output_type": "execute_result"
    }
   ],
   "source": [
    "# TRANSLATED IMAGE\n",
    "\n",
    "link = imagelink + \"example_1.jpg\"\n",
    "\n",
    "image = cv2.imread(link, 0)\n",
    "\n",
    "height, width = image.shape[:2]\n",
    "\n",
    "tx, ty = width / 4, height / 4\n",
    "\n",
    "translation_matrix = np.array([[1, 0, tx],[0, 1, ty]], dtype=np.float32)\n",
    "\n",
    "image = cv2.warpAffine(src=image, M=translation_matrix, dsize=(width, height))\n",
    "\n",
    "cv2.imshow(\"Image Translated\", image)\n",
    "cv2.waitKey(0)"
   ]
  },
  {
   "cell_type": "markdown",
   "metadata": {},
   "source": [
    "## TEXT EXTRACTION"
   ]
  },
  {
   "cell_type": "markdown",
   "metadata": {},
   "source": [
    "## - Simple Extraction"
   ]
  },
  {
   "cell_type": "code",
   "execution_count": 7,
   "metadata": {},
   "outputs": [
    {
     "name": "stdout",
     "output_type": "stream",
     "text": [
      "A simple image with text to demonstrate\n",
      "extraction of text using python and tesseract\n",
      "\n",
      "“Two things are infinite: the universe and human stupidity; and I'm not sure\n",
      "about the universe.” - Albert Einstein\n",
      "\f",
      "\n"
     ]
    }
   ],
   "source": [
    "link = imagelink + \"example_1.jpg\"\n",
    "\n",
    "image = cv2.imread(link, 0)\n",
    "\n",
    "data = pytesseract.image_to_string(image)\n",
    "\n",
    "print(data)"
   ]
  },
  {
   "cell_type": "code",
   "execution_count": 8,
   "metadata": {},
   "outputs": [
    {
     "name": "stdout",
     "output_type": "stream",
     "text": [
      "“You've gotta dance like there's nobody watching,\n",
      "Love like you'll never be hurt,\n",
      "Sing like there's nobody listening,\n",
      "And live like it’s heaven on earth.”\n",
      "— William w. Pu rkey\n",
      "\f",
      "\n"
     ]
    }
   ],
   "source": [
    "link = imagelink + \"example_2.jpg\"\n",
    "\n",
    "image = cv2.imread(link, 0)\n",
    "\n",
    "data = pytesseract.image_to_string(image)\n",
    "\n",
    "print(data)"
   ]
  },
  {
   "cell_type": "markdown",
   "metadata": {},
   "source": [
    "## - Text Extraction With Manipulations"
   ]
  },
  {
   "cell_type": "code",
   "execution_count": 9,
   "metadata": {},
   "outputs": [
    {
     "name": "stdout",
     "output_type": "stream",
     "text": [
      "\n",
      "it © 13 ~*~ wu\n",
      "C) Kimmy Long\n",
      "C) Le Fevre Taylor\n",
      "\f",
      "\n",
      "--------------------\n",
      "\n",
      "We notice that views on the screenshot are visible after a special character '©'.\n",
      "Therefore we use regex to extract the number of views.\n",
      "--------------------\n",
      "\n",
      "Example 3 has 13 views.\n"
     ]
    }
   ],
   "source": [
    "link = imagelink + \"example_3.jpg\"\n",
    "\n",
    "image = cv2.imread(link,0)\n",
    "image = cv2.resize(image, (500, 700))\n",
    "image = image[25:300, :]\n",
    "\n",
    "thresh = cv2.threshold(image, 0, 255, cv2.THRESH_BINARY_INV + cv2.THRESH_OTSU)[1]\n",
    "\n",
    "Data = pytesseract.image_to_string(thresh, lang='eng',config='--psm 6')\n",
    "\n",
    "print(\"\\n{}\".format(Data))\n",
    "\n",
    "print(\"-\"*20)\n",
    "print(\"\\nWe notice that views on the screenshot are visible after a special character '©'.\\nTherefore we use regex to extract the number of views.\")\n",
    "\n",
    "Views = re.findall(r'© .*',Data)[0]\n",
    "Views = [int(i) for i in Views.split() if i.isdigit()][0]\n",
    "\n",
    "print(\"-\"*20)\n",
    "print(\"\\nExample 3 has {} views.\".format(Views))"
   ]
  },
  {
   "cell_type": "code",
   "execution_count": 10,
   "metadata": {},
   "outputs": [
    {
     "name": "stdout",
     "output_type": "stream",
     "text": [
      "['', '', '', '', '©', '5616', '', '', '', 'rm', '', '', '', '']\n",
      "\n",
      "--------------------\n",
      "\n",
      "We can't automate a process if there is a dependency on visibility for a special character\n",
      "Thus, we use another method to extract the number of views.\n",
      "--------------------\n",
      "\n",
      "Example 4 has 5616 views.\n"
     ]
    }
   ],
   "source": [
    "link = imagelink + \"example_4.jpg\"\n",
    "\n",
    "image = cv2.imread(link,0)\n",
    "image = cv2.resize(image, (500, 700))\n",
    "image = image[25:300, :]\n",
    "\n",
    "rgb = cv2.cvtColor(image, cv2.COLOR_BGR2RGB)\n",
    "results = pytesseract.image_to_data(rgb, output_type=Output.DICT)\n",
    "\n",
    "Views = [int(i) for i in results[\"text\"] if i.isdigit()][0]\n",
    "\n",
    "print(\"{}\\n\".format(results[\"text\"]))\n",
    "\n",
    "print(\"-\"*20)\n",
    "print(\"\\nWe can't automate a process if there is a dependency on visibility for a special character\\nThus, we use another method to extract the number of views.\")\n",
    "\n",
    "print(\"-\"*20)\n",
    "print(\"\\nExample 4 has {} views.\".format(Views))"
   ]
  },
  {
   "cell_type": "code",
   "execution_count": 11,
   "metadata": {},
   "outputs": [
    {
     "name": "stdout",
     "output_type": "stream",
     "text": [
      "20 July 2017\n",
      "--------------\n",
      "TheLittleSongbird\n",
      "--------------\n",
      "Spider-Man with a fresh twist\n",
      "--------------\n",
      "Really enjoyed the first two films, both contained great scenes/action, acting and the two best villains of the films. Was mixed on the third film, which wasn't that bad but suffered mainly from bloat, and was not totally sold on the ‘Amazing Spider-Man’ films. Whether ‘Spider-Man: Homecoming’ is the best 'Spider-Man' film ever is debatable, some may prefer the first two films, others may prefer this. To me, it is the best 'Spider-Man' film since the second and on par with the first two. It may not have taken as many risks or had sequences/action as memorable as the first two films, and for more of an origin story it's best to stick with the first two films. For a fresh twist on 'Spider-Man' and the superhero genre, ‘Spider-Man: Homecoming’ (one of Marvel's best to date) more than fits the bill.\n"
     ]
    },
    {
     "data": {
      "text/plain": [
       "-1"
      ]
     },
     "execution_count": 11,
     "metadata": {},
     "output_type": "execute_result"
    }
   ],
   "source": [
    "#Using Review\n",
    "\n",
    "link = imagelink + \"example_5.jpg\"\n",
    "\n",
    "image = cv2.imread(link)\n",
    "\n",
    "rgb = cv2.cvtColor(image, cv2.COLOR_BGR2RGB)\n",
    "results = pytesseract.image_to_data(rgb, output_type=Output.DICT)\n",
    "\n",
    "top = results['text'].index(\"Review\")\n",
    "bottom = results['text'].index(\"helpful?\")\n",
    "\n",
    "top_cod = results[\"top\"][top]\n",
    "top_cod = top_cod - round(top_cod/1.5)\n",
    "\n",
    "bottom_cod = results[\"top\"][bottom] \n",
    "\n",
    "image = image[top_cod:bottom_cod, :]\n",
    "\n",
    "rgb = cv2.cvtColor(image, cv2.COLOR_BGR2RGB)\n",
    "results = pytesseract.image_to_data(rgb, output_type=Output.DICT)\n",
    "\n",
    "review = results['text'][results['text'].index(get_close_matches(\"/10\", results['text'],cutoff=0.6)[0])+1:]\n",
    "review = \" \".join([i for i in review if i != \"\"])\n",
    "    \n",
    "reviewtext = results['text'][results['text'].index(get_close_matches(\"/10\", results['text'],cutoff=0.6)[0])+1:]\n",
    "reviewindx = reviewtext.index([i for i in reviewtext if (i.isdigit()) and (int(i) >=1900 and int(i) <= date.today().year)][0])\n",
    "\n",
    "reviewtime = \" \".join(reviewtext[:reviewindx+1][-3:])\n",
    "reviewheading = \" \".join([i for i in reviewtext[:reviewindx-2][:-2] if i != \"\"])\n",
    "reviewer = reviewtext[:reviewindx-2][-1]\n",
    "review = \" \".join([i for i in reviewtext[reviewindx+1:] if i != \"\"])\n",
    "\n",
    "completereview = [reviewtime,reviewer,reviewheading,review]\n",
    "\n",
    "print(*completereview,sep=\"\\n--------------\\n\")\n",
    "\n",
    "cv2.imshow(\"Image\", image)\n",
    "cv2.waitKey(0)"
   ]
  },
  {
   "cell_type": "code",
   "execution_count": 12,
   "metadata": {},
   "outputs": [
    {
     "name": "stdout",
     "output_type": "stream",
     "text": [
      "29 September 2017\n",
      "--------------\n",
      "SnoopyStyle\n",
      "--------------\n",
      "fun comic book fare\n",
      "--------------\n",
      "Salvager Adrian Toomes (Michael Keaton) holds a grudge against Tony Stark (Robert Downey Jr.) after his takeover of the Battle of New York cleanup. Toomes kept some of the Chitauri tech to create new weapons. Eight years later after the events of Civil War, Peter Parker (Tom Holland) returns to his school, Midtown School of Science and Technology. He lives with his sought-after aunt May (Marisa Tomei). He has a crush on classmate Liz. His best friend Ned discovers his secret identity Spider-Man. There is also the sarcastic academic teammate Michelle (Zendaya). This is fun. It's got the comic book action. It weaves into the MCU with ease. RDJ has a supporting role which is more than a simple cameo. This definitely has the John Hughes vibe. It's nice light fun in this overarching comics universe. Holland is a great teen Spider-man as he showed in Civil War. The young cast is terrific and Keaton is an awesome villain. Keaton has real depth which is built over the years. His humanity creates more than a comic book villain. The surprise connection hits it out of the park. This is simply a good movie.\n"
     ]
    },
    {
     "data": {
      "text/plain": [
       "-1"
      ]
     },
     "execution_count": 12,
     "metadata": {},
     "output_type": "execute_result"
    }
   ],
   "source": [
    "#Using rating\n",
    "\n",
    "link = imagelink + \"example_6.jpg\"\n",
    "\n",
    "image = cv2.imread(link)\n",
    "\n",
    "rgb = cv2.cvtColor(image, cv2.COLOR_BGR2RGB)\n",
    "results = pytesseract.image_to_data(rgb, output_type=Output.DICT)\n",
    "\n",
    "top_val = results['text'][results['text'].index(get_close_matches(\"/10\", results['text'],cutoff=0.6)[0])]\n",
    "top = results['text'].index(top_val)\n",
    "\n",
    "bottom = results['text'].index(\"helpful?\")\n",
    "\n",
    "top_cod = results[\"top\"][top]\n",
    "top_cod = top_cod - round(top_cod/6)\n",
    "\n",
    "bottom_cod = results[\"top\"][bottom] \n",
    "\n",
    "image = image[top_cod:bottom_cod, :]\n",
    "\n",
    "rgb = cv2.cvtColor(image, cv2.COLOR_BGR2RGB)\n",
    "results = pytesseract.image_to_data(rgb, output_type=Output.DICT)\n",
    "\n",
    "review = results['text'][results['text'].index(get_close_matches(\"/10\", results['text'],cutoff=0.6)[0])+1:]\n",
    "review = \" \".join([i for i in review if i != \"\"])\n",
    "    \n",
    "reviewtext = results['text'][results['text'].index(get_close_matches(\"/10\", results['text'],cutoff=0.6)[0])+1:]\n",
    "reviewindx = reviewtext.index([i for i in reviewtext if (i.isdigit()) and (int(i) >=1900 and int(i) <= date.today().year)][0])\n",
    "\n",
    "reviewtime = \" \".join(reviewtext[:reviewindx+1][-3:])\n",
    "reviewheading = \" \".join([i for i in reviewtext[:reviewindx-2][:-2] if i != \"\"])\n",
    "reviewer = reviewtext[:reviewindx-2][-1]\n",
    "review = \" \".join([i for i in reviewtext[reviewindx+1:] if i != \"\"])\n",
    "\n",
    "completereview = [reviewtime,reviewer,reviewheading,review]\n",
    "\n",
    "print(*completereview,sep=\"\\n--------------\\n\")\n",
    "\n",
    "cv2.imshow(\"Image\", image)\n",
    "cv2.waitKey(0)"
   ]
  },
  {
   "cell_type": "code",
   "execution_count": 13,
   "metadata": {},
   "outputs": [
    {
     "name": "stdout",
     "output_type": "stream",
     "text": [
      "\n",
      "Details for Image: example_5.JPG\n",
      "\n",
      "--------------------\n",
      "20 July 2017\n",
      "--------------\n",
      "TheLittleSongbird\n",
      "--------------\n",
      "Spider-Man with a fresh twist\n",
      "--------------\n",
      "Really enjoyed the first two films, both contained great scenes/action, acting and the two best villains of the films. Was mixed on the third film, which wasn't that bad but suffered mainly from bloat, and was not totally sold on the ‘Amazing Spider-Man’ films. Whether ‘Spider-Man: Homecoming’ is the best 'Spider-Man' film ever is debatable, some may prefer the first two films, others may prefer this. To me, it is the best 'Spider-Man' film since the second and on par with the first two. It may not have taken as many risks or had sequences/action as memorable as the first two films, and for more of an origin story it's best to stick with the first two films. For a fresh twist on 'Spider-Man' and the superhero genre, ‘Spider-Man: Homecoming’ (one of Marvel's best to date) more than fits the bill.\n",
      "--------------------\n",
      "\n",
      "Details for Image: example_6.JPG\n",
      "\n",
      "--------------------\n",
      "29 September 2017\n",
      "--------------\n",
      "SnoopyStyle\n",
      "--------------\n",
      "fun comic book fare\n",
      "--------------\n",
      "Salvager Adrian Toomes (Michael Keaton) holds a grudge against Tony Stark (Robert Downey Jr.) after his takeover of the Battle of New York cleanup. Toomes kept some of the Chitauri tech to create new weapons. Eight years later after the events of Civil War, Peter Parker (Tom Holland) returns to his school, Midtown School of Science and Technology. He lives with his sought-after aunt May (Marisa Tomei). He has a crush on classmate Liz. His best friend Ned discovers his secret identity Spider-Man. There is also the sarcastic academic teammate Michelle (Zendaya). This is fun. It's got the comic book action. It weaves into the MCU with ease. RDJ has a supporting role which is more than a simple cameo. This definitely has the John Hughes vibe. It's nice light fun in this overarching comics universe. Holland is a great teen Spider-man as he showed in Civil War. The young cast is terrific and Keaton is an awesome villain. Keaton has real depth which is built over the years. His humanity creates more than a comic book villain. The surprise connection hits it out of the park. This is simply a good movie.\n",
      "--------------------\n"
     ]
    }
   ],
   "source": [
    "#Bulk using rating\n",
    "\n",
    "Image = os.path.join(imagelink, \"*\") \n",
    "Image = glob.glob(Image)[-2:]\n",
    "\n",
    "for link in Image:\n",
    "\n",
    "    print(\"\\nDetails for Image: {}\\n\".format(link.split(\"\\\\\")[-1]))\n",
    "    image = cv2.imread(link)\n",
    "\n",
    "    rgb = cv2.cvtColor(image, cv2.COLOR_BGR2RGB)\n",
    "    results = pytesseract.image_to_data(rgb, output_type=Output.DICT)\n",
    "\n",
    "    top_val = results['text'][results['text'].index(get_close_matches(\"/10\", results['text'],cutoff=0.6)[0])]\n",
    "    top = results['text'].index(top_val)\n",
    "\n",
    "    bottom = results['text'].index(\"helpful?\")\n",
    "\n",
    "    top_cod = results[\"top\"][top]\n",
    "    top_cod = top_cod - round(top_cod/6)\n",
    "\n",
    "    bottom_cod = results[\"top\"][bottom] \n",
    "\n",
    "    image = image[top_cod:bottom_cod, :]\n",
    "\n",
    "    rgb = cv2.cvtColor(image, cv2.COLOR_BGR2RGB)\n",
    "    results = pytesseract.image_to_data(rgb, output_type=Output.DICT)\n",
    "\n",
    "    review = results['text'][results['text'].index(get_close_matches(\"/10\", results['text'],cutoff=0.6)[0])+1:]\n",
    "    review = \" \".join([i for i in review if i != \"\"])\n",
    "\n",
    "    reviewtext = results['text'][results['text'].index(get_close_matches(\"/10\", results['text'],cutoff=0.6)[0])+1:]\n",
    "    reviewindx = reviewtext.index([i for i in reviewtext if (i.isdigit()) and (int(i) >=1900 and int(i) <= date.today().year)][0])\n",
    "\n",
    "    reviewtime = \" \".join(reviewtext[:reviewindx+1][-3:])\n",
    "    reviewheading = \" \".join([i for i in reviewtext[:reviewindx-2][:-2] if i != \"\"])\n",
    "    reviewer = reviewtext[:reviewindx-2][-1]\n",
    "    review = \" \".join([i for i in reviewtext[reviewindx+1:] if i != \"\"])\n",
    "\n",
    "    completereview = [reviewtime,reviewer,reviewheading,review]\n",
    "    \n",
    "    print(\"-\"*20)\n",
    "    print(*completereview,sep=\"\\n--------------\\n\")\n",
    "    print(\"-\"*20)"
   ]
  }
 ],
 "metadata": {
  "kernelspec": {
   "display_name": "Python 3",
   "language": "python",
   "name": "python3"
  },
  "language_info": {
   "codemirror_mode": {
    "name": "ipython",
    "version": 3
   },
   "file_extension": ".py",
   "mimetype": "text/x-python",
   "name": "python",
   "nbconvert_exporter": "python",
   "pygments_lexer": "ipython3",
   "version": "3.8.5"
  }
 },
 "nbformat": 4,
 "nbformat_minor": 4
}
